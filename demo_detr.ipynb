{
  "nbformat": 4,
  "nbformat_minor": 0,
  "metadata": {
    "colab": {
      "name": "demo_detr.ipynb",
      "provenance": [],
      "private_outputs": true,
      "authorship_tag": "ABX9TyP6Yext4NiZvkCefsniKPGY",
      "include_colab_link": true
    },
    "kernelspec": {
      "name": "python3",
      "display_name": "Python 3"
    },
    "accelerator": "GPU"
  },
  "cells": [
    {
      "cell_type": "markdown",
      "metadata": {
        "id": "view-in-github",
        "colab_type": "text"
      },
      "source": [
        "<a href=\"https://colab.research.google.com/github/Mollylulu/NLP_class_demo/blob/master/demo_detr.ipynb\" target=\"_parent\"><img src=\"https://colab.research.google.com/assets/colab-badge.svg\" alt=\"Open In Colab\"/></a>"
      ]
    },
    {
      "cell_type": "code",
      "metadata": {
        "id": "O1dxNNO6mtok",
        "colab_type": "code",
        "colab": {}
      },
      "source": [
        "import torch as th\n",
        "import torchvision.transforms as T\n",
        "import requests\n",
        "from PIL import Image, ImageDraw, ImageFont\n",
        "import matplotlib.pyplot as plt"
      ],
      "execution_count": 0,
      "outputs": []
    },
    {
      "cell_type": "code",
      "metadata": {
        "id": "7Nrj7N6NnOgR",
        "colab_type": "code",
        "colab": {}
      },
      "source": [
        "load_model  = th.hub.load('facebookresearch/detr', 'detr_resnet101', pretrained=True)\n",
        "load_model.eval()\n",
        "load_model = load_model.cuda()\n"
      ],
      "execution_count": 0,
      "outputs": []
    },
    {
      "cell_type": "code",
      "metadata": {
        "id": "jFBH5qlan6Dx",
        "colab_type": "code",
        "colab": {}
      },
      "source": [
        "url = input()"
      ],
      "execution_count": 0,
      "outputs": []
    },
    {
      "cell_type": "code",
      "metadata": {
        "id": "1rNu5QEGv5sD",
        "colab_type": "code",
        "colab": {}
      },
      "source": [
        "transform = T.Compose([\n",
        "                      #  T.Resize(800), \n",
        "                       T.ToTensor(), \n",
        "                       T.Normalize([0.485, 0.456, 0.406], [0.229, 0.224, 0.225])\n",
        "                       ])\n"
      ],
      "execution_count": 0,
      "outputs": []
    },
    {
      "cell_type": "code",
      "metadata": {
        "id": "2ZMX5lUnn_y_",
        "colab_type": "code",
        "colab": {}
      },
      "source": [
        "WIDTH, HEIGHT = 800, 600\n",
        "img = Image.open(requests.get(url, stream=True).raw).resize((WIDTH, HEIGHT)).convert(\"RGB\")\n"
      ],
      "execution_count": 0,
      "outputs": []
    },
    {
      "cell_type": "code",
      "metadata": {
        "id": "wbTqKVdTwgre",
        "colab_type": "code",
        "colab": {}
      },
      "source": [
        "img = transform(img)\n"
      ],
      "execution_count": 0,
      "outputs": []
    },
    {
      "cell_type": "code",
      "metadata": {
        "id": "vsZzTytPxeIZ",
        "colab_type": "code",
        "colab": {}
      },
      "source": [
        "# img_tens =  img.unsqueeze(0)\n",
        "img_tens = img_tens.cuda()\n",
        "img_tens.shape"
      ],
      "execution_count": 0,
      "outputs": []
    },
    {
      "cell_type": "code",
      "metadata": {
        "id": "pWgFM9TivxWS",
        "colab_type": "code",
        "colab": {}
      },
      "source": [
        "with th.no_grad():\n",
        "  output = load_model(img_tens)\n",
        "  print(\"output['pred_logits']\", output['pred_logits'].shape)\n",
        "  print(\"output['pred_boxes']\", output['pred_boxes'].shape)"
      ],
      "execution_count": 0,
      "outputs": []
    },
    {
      "cell_type": "code",
      "metadata": {
        "id": "zUI-tcxFycJu",
        "colab_type": "code",
        "colab": {}
      },
      "source": [
        "output['pred_logits'].argmax(-1)"
      ],
      "execution_count": 0,
      "outputs": []
    },
    {
      "cell_type": "code",
      "metadata": {
        "id": "NBOJJRqGrOnQ",
        "colab_type": "code",
        "colab": {}
      },
      "source": [
        "class DETRModel(object):\n",
        "    # COCO classes\n",
        "    CLASSES = [\n",
        "        'N/A', 'person', 'bicycle', 'car', 'motorcycle', 'airplane', 'bus',\n",
        "        'train', 'truck', 'boat', 'traffic light', 'fire hydrant', 'N/A',\n",
        "        'stop sign', 'parking meter', 'bench', 'bird', 'cat', 'dog', 'horse',\n",
        "        'sheep', 'cow', 'elephant', 'bear', 'zebra', 'giraffe', 'N/A', 'backpack',\n",
        "        'umbrella', 'N/A', 'N/A', 'handbag', 'tie', 'suitcase', 'frisbee', 'skis',\n",
        "        'snowboard', 'sports ball', 'kite', 'baseball bat', 'baseball glove',\n",
        "        'skateboard', 'surfboard', 'tennis racket', 'bottle', 'N/A', 'wine glass',\n",
        "        'cup', 'fork', 'knife', 'spoon', 'bowl', 'banana', 'apple', 'sandwich',\n",
        "        'orange', 'broccoli', 'carrot', 'hot dog', 'pizza', 'donut', 'cake',\n",
        "        'chair', 'couch', 'potted plant', 'bed', 'N/A', 'dining table', 'N/A',\n",
        "        'N/A', 'toilet', 'N/A', 'tv', 'laptop', 'mouse', 'remote', 'keyboard',\n",
        "        'cell phone', 'microwave', 'oven', 'toaster', 'sink', 'refrigerator', 'N/A',\n",
        "        'book', 'clock', 'vase', 'scissors', 'teddy bear', 'hair drier',\n",
        "        'toothbrush'\n",
        "    ]\n",
        "\n",
        "    # colors for visualization\n",
        "    COLORS = [[0.000, 0.447, 0.741], [0.850, 0.325, 0.098], [0.929, 0.694, 0.125],\n",
        "              [0.494, 0.184, 0.556], [0.466, 0.674, 0.188], [0.301, 0.745, 0.933]]\n",
        "    BBOX_COLOR = \"red\"\n",
        "    BBOX_WIDTH = 2\n",
        "    LABEL_FILL_COLOR = \"red\"\n",
        "\n",
        "    def __init__(self, imageurl):\n",
        "        self.imageurl = imageurl\n",
        "        self.WIDTH, self.HEIGHT = 800, 600\n",
        "        self.model, self.img, self.img_t, self.output = [None]*4\n",
        "        self.init()\n",
        "\n",
        "    def init(self):\n",
        "        self.model_init()\n",
        "        self.pre_process()\n",
        "\n",
        "    def model_init(self):\n",
        "        # self.model = th.hub.load(\"facebookresearch/detr\", 'detr_resnet101', pretrained=True).eval()\n",
        "        self.model = load_model\n",
        "\n",
        "    def transform(self):\n",
        "        t = T.Compose([\n",
        "            # T.Resize(800),\n",
        "            T.ToTensor(),\n",
        "            T.Normalize([0.485, 0.456, 0.406], [0.229, 0.224, 0.225])\n",
        "        ])\n",
        "        self.img_t = t(self.img)\n",
        "        self.img_t = self.img_t.unsqueeze(0).cuda()\n",
        "\n",
        "    def download_image(self):\n",
        "        self.img = Image.open(\n",
        "            requests.get(self.imageurl, stream=True).raw\n",
        "        ).resize((self.WIDTH, self.HEIGHT)).convert(\"RGB\")\n",
        "\n",
        "    def pre_process(self):\n",
        "        self.download_image()\n",
        "        self.transform()\n",
        "\n",
        "    @staticmethod\n",
        "    def get_font():\n",
        "        custom_font = \"/usr/local/lib/python3.6/dist-packages/werkzeug/debug/shared/ubuntu.ttf\"\n",
        "        font = ImageFont.truetype(custom_font, 20)\n",
        "        return font\n",
        "\n",
        "    @staticmethod\n",
        "    def show_image(image):\n",
        "        try:\n",
        "            display(image)\n",
        "        except:\n",
        "            plt.imshow(image)\n",
        "\n",
        "    def show_model_output(self):\n",
        "        im = self.img.copy()\n",
        "        drw = ImageDraw.Draw(im)\n",
        "        for logit, box in zip(self.output['pred_logits'][0], self.output['pred_boxes'][0]):\n",
        "            cls = logit.argmax()\n",
        "            if cls >= len(self.CLASSES):\n",
        "                continue\n",
        "            label = self.CLASSES[cls]\n",
        "\n",
        "            box = box * th.Tensor([800, 600, 800, 600]).cuda() #scaling up \n",
        "            x, y, w, h = box\n",
        "            x0, x1 = x - w // 2, x + w // 2\n",
        "            y0, y1 = y - h // 2, y + h // 2\n",
        "\n",
        "            drw.rectangle([x0, y0, x1, y1], width=self.BBOX_WIDTH, outline=self.BBOX_COLOR)\n",
        "            drw.text((x, y), label, fill=self.LABEL_FILL_COLOR, font=self.get_font())\n",
        "        self.show_image(im)\n",
        "\n",
        "    def detect(self):\n",
        "        with th.no_grad():\n",
        "            self.output = self.model(self.img_t)\n",
        "            self.show_model_output()\n"
      ],
      "execution_count": 0,
      "outputs": []
    },
    {
      "cell_type": "code",
      "metadata": {
        "id": "N-z4xOmtrwkK",
        "colab_type": "code",
        "colab": {}
      },
      "source": [
        "url = 'https://encrypted-tbn0.gstatic.com/images?q=tbn%3AANd9GcSXmb6Ioj0cFgUBn3Kwyc12Nys518m2B-1plxmPbUhX7Jz_peZm&usqp=CAU'\n",
        "model_test = DETRModel(url)\n",
        "model_test.detect()"
      ],
      "execution_count": 0,
      "outputs": []
    }
  ]
}